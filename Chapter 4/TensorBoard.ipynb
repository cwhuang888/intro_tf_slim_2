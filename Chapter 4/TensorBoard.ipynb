{
 "cells": [
  {
   "cell_type": "markdown",
   "metadata": {},
   "source": [
    "## TensorBoard - Visualize Neural Networks and Inspect Model Learning\n",
    "\n",
    "*by Marvin Bertin*\n",
    "<img src=\"../images/tensorflow.png\" width=\"400\">"
   ]
  },
  {
   "cell_type": "markdown",
   "metadata": {},
   "source": [
    "**TensorBoard** is a web applications for visualizing the network computational graph, as well as, inspecting and understanding the model's training progress.\n",
    "\n",
    "TensorBoard currently supports five visualizations\n",
    "\n",
    "1. scalars (loss, learning rate, evaluation metrics)\n",
    "2. images (visualize batch samples)\n",
    "3. audio (audio batch sample)\n",
    "4. histograms (distribution of actions, weights, gradients)\n",
    "5. graph (neural network computational graph)\n",
    "\n",
    "TensorBoard operates by reading TensorFlow events files, which contain summary data that you can generate when running TensorFlow.\n",
    "\n",
    "Fortunately **TF-Slim's training routine** generate automatically these TensorBoard files in the log directory. Therefore if you build your Deep Learning model with TF-Slim, you don't need to add any more code."
   ]
  },
  {
   "cell_type": "markdown",
   "metadata": {},
   "source": [
    "## Launching TensorBoard\n",
    "\n",
    "To run TensorBoard, use the following command\n",
    "\n",
    "`tensorboard --logdir=path/to/log-directory`\n",
    "\n",
    "Where logdir points to the directory where the `FileWriter` serialized its data. If this logdir directory contains subdirectories which contain serialized data from separate runs, then TensorBoard will visualize the data from all of those runs.\n",
    "\n",
    "Once TensorBoard is running, navigate your web browser to `localhost:6006` to view the TensorBoard.\n",
    "\n",
    "<img src=\"../images/board1.png\" width=\"600\">"
   ]
  },
  {
   "cell_type": "markdown",
   "metadata": {},
   "source": [
    "## Histrograms\n",
    "\n",
    "Visualize distributions at different layers of activations, weights and gradients\n",
    "\n",
    "<img src=\"../images/activations.png\" width=\"600\">"
   ]
  },
  {
   "cell_type": "markdown",
   "metadata": {},
   "source": [
    "## Graph Visualization\n",
    "\n",
    "TensorFlow computation graphs are powerful but complicated. The graph visualization can help you understand and debug them.\n",
    "\n",
    "Tensorflow and TF-Slim automatically generate these visuals from the variable names and variable scopes created in the model.\n",
    "\n",
    "<img src=\"../images/board2.png\" width=\"600\">"
   ]
  },
  {
   "cell_type": "markdown",
   "metadata": {},
   "source": [
    "## Visualize Internal Structure\n",
    "\n",
    "<img src=\"../images/board4.png\" width=\"600\">"
   ]
  },
  {
   "cell_type": "markdown",
   "metadata": {},
   "source": [
    "## Visualize the Flow of Tensors\n",
    "<img src=\"../images/board3.png\" width=\"600\">"
   ]
  },
  {
   "cell_type": "markdown",
   "metadata": {
    "collapsed": true
   },
   "source": [
    "<img src=\"../images/divider.png\" width=\"100\">"
   ]
  }
 ],
 "metadata": {
  "anaconda-cloud": {},
  "kernelspec": {
   "display_name": "Python [conda env:TFr12-py2-env]",
   "language": "python",
   "name": "conda-env-TFr12-py2-env-py"
  },
  "language_info": {
   "codemirror_mode": {
    "name": "ipython",
    "version": 2
   },
   "file_extension": ".py",
   "mimetype": "text/x-python",
   "name": "python",
   "nbconvert_exporter": "python",
   "pygments_lexer": "ipython2",
   "version": "2.7.12"
  }
 },
 "nbformat": 4,
 "nbformat_minor": 1
}
